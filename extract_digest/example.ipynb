{
 "cells": [
  {
   "cell_type": "markdown",
   "metadata": {},
   "source": [
    "# Example of extracting representation model digest\n",
    "\n",
    "This example is based on the readthedocs example for schnetpack library."
   ]
  },
  {
   "cell_type": "code",
   "execution_count": 1,
   "metadata": {},
   "outputs": [],
   "source": [
    "import os\n",
    "import schnetpack as spk\n",
    "from schnetpack.datasets import QM9\n",
    "import schnetpack.transform as trn\n",
    "\n",
    "import torch\n",
    "import torchmetrics\n",
    "import pytorch_lightning as pl\n",
    "\n",
    "qm9tut = './qm9tut'\n",
    "if not os.path.exists('qm9tut'):\n",
    "    os.makedirs(qm9tut)\n"
   ]
  },
  {
   "cell_type": "code",
   "execution_count": 2,
   "metadata": {},
   "outputs": [],
   "source": [
    "# %rm split.npz\n",
    "\n",
    "DB_PATH = \"./qm9.db\"\n",
    "PROPERTY = QM9.Cv\n",
    "BATCH_SIZE = 16\n",
    "NUM_TRAIN = 110000\n",
    "NUM_VALIDATION = 10000\n",
    "CUTOFF = 5.\n",
    "N_ATOM_BASIS = 32\n",
    "T = 3\n",
    "EPOCHS = 3\n",
    "LR = 1e-4\n",
    "NUM_WORKERS = 1\n",
    "PIN_MEMORY = True"
   ]
  },
  {
   "cell_type": "code",
   "execution_count": 3,
   "metadata": {},
   "outputs": [
    {
     "name": "stderr",
     "output_type": "stream",
     "text": [
      "  0%|          | 0/6875 [00:00<?, ?it/s]"
     ]
    },
    {
     "name": "stderr",
     "output_type": "stream",
     "text": [
      "100%|██████████| 6875/6875 [01:07<00:00, 102.55it/s]\n"
     ]
    }
   ],
   "source": [
    "qm9data = QM9(\n",
    "    DB_PATH,\n",
    "    batch_size=BATCH_SIZE,\n",
    "    num_train=NUM_TRAIN,\n",
    "    num_val=NUM_VALIDATION,\n",
    "    transforms=[\n",
    "        trn.ASENeighborList(cutoff=float(CUTOFF)),\n",
    "        trn.RemoveOffsets(PROPERTY, remove_mean=True, remove_atomrefs=True),\n",
    "        trn.CastTo32()\n",
    "    ],\n",
    "    num_workers=NUM_WORKERS,\n",
    "    split_file=os.path.join(qm9tut, \"split.npz\"),\n",
    "    pin_memory=PIN_MEMORY, # set to false, when not using a GPU\n",
    "    load_properties=[PROPERTY], #only load U0 property\n",
    ")\n",
    "qm9data.prepare_data()\n",
    "qm9data.setup()"
   ]
  },
  {
   "cell_type": "code",
   "execution_count": 14,
   "metadata": {},
   "outputs": [],
   "source": [
    "pairwise_distance = spk.atomistic.PairwiseDistances() # calculates pairwise distances between atoms\n",
    "radial_basis = spk.nn.GaussianRBF(n_rbf=20, cutoff=CUTOFF)\n",
    "schnet = spk.representation.SchNet(\n",
    "    n_atom_basis=N_ATOM_BASIS, n_interactions=T,\n",
    "    radial_basis=radial_basis,\n",
    "    cutoff_fn=spk.nn.CosineCutoff(CUTOFF)\n",
    ")\n",
    "pred_property = spk.atomistic.Atomwise(n_in=N_ATOM_BASIS, output_key=PROPERTY)\n",
    "\n",
    "nnpot = spk.model.NeuralNetworkPotential(\n",
    "    representation=schnet,\n",
    "    input_modules=[pairwise_distance],\n",
    "    output_modules=[pred_property],\n",
    "    postprocessors=[trn.CastTo64(), trn.AddOffsets(PROPERTY, add_mean=True, add_atomrefs=True)]\n",
    ")"
   ]
  },
  {
   "cell_type": "code",
   "execution_count": 15,
   "metadata": {},
   "outputs": [],
   "source": [
    "output_property = spk.task.ModelOutput(\n",
    "    name=PROPERTY,\n",
    "    loss_fn=torch.nn.MSELoss(),\n",
    "    loss_weight=1.,\n",
    "    metrics={\n",
    "        \"MAE\": torchmetrics.MeanAbsoluteError()\n",
    "    }\n",
    ")"
   ]
  },
  {
   "cell_type": "code",
   "execution_count": 16,
   "metadata": {},
   "outputs": [
    {
     "name": "stderr",
     "output_type": "stream",
     "text": [
      "/home/aimas/dtu/dl/DeepLearningProject/.venv/lib/python3.10/site-packages/pytorch_lightning/utilities/parsing.py:198: Attribute 'model' is an instance of `nn.Module` and is already saved during checkpointing. It is recommended to ignore them using `self.save_hyperparameters(ignore=['model'])`.\n"
     ]
    }
   ],
   "source": [
    "task = spk.task.AtomisticTask(\n",
    "    model=nnpot,\n",
    "    outputs=[output_property],\n",
    "    optimizer_cls=torch.optim.AdamW,\n",
    "    optimizer_args={\"lr\": LR}\n",
    ")"
   ]
  },
  {
   "cell_type": "markdown",
   "metadata": {},
   "source": [
    "## Model training\n",
    "\n",
    "Train a model with a few epochs, if you don't have a trained model already."
   ]
  },
  {
   "cell_type": "code",
   "execution_count": 17,
   "metadata": {},
   "outputs": [
    {
     "name": "stderr",
     "output_type": "stream",
     "text": [
      "GPU available: True (cuda), used: True\n",
      "TPU available: False, using: 0 TPU cores\n",
      "IPU available: False, using: 0 IPUs\n",
      "HPU available: False, using: 0 HPUs\n",
      "You are using a CUDA device ('NVIDIA GeForce RTX 3050 Laptop GPU') that has Tensor Cores. To properly utilize them, you should set `torch.set_float32_matmul_precision('medium' | 'high')` which will trade-off precision for performance. For more details, read https://pytorch.org/docs/stable/generated/torch.set_float32_matmul_precision.html#torch.set_float32_matmul_precision\n",
      "LOCAL_RANK: 0 - CUDA_VISIBLE_DEVICES: [0]\n",
      "\n",
      "  | Name    | Type                   | Params\n",
      "---------------------------------------------------\n",
      "0 | model   | NeuralNetworkPotential | 18.3 K\n",
      "1 | outputs | ModuleList             | 0     \n",
      "---------------------------------------------------\n",
      "18.3 K    Trainable params\n",
      "0         Non-trainable params\n",
      "18.3 K    Total params\n",
      "0.073     Total estimated model params size (MB)\n"
     ]
    },
    {
     "name": "stdout",
     "output_type": "stream",
     "text": [
      "Sanity Checking: |          | 0/? [00:00<?, ?it/s]"
     ]
    },
    {
     "name": "stderr",
     "output_type": "stream",
     "text": [
      "/home/aimas/dtu/dl/DeepLearningProject/.venv/lib/python3.10/site-packages/pytorch_lightning/trainer/connectors/data_connector.py:441: The 'val_dataloader' does not have many workers which may be a bottleneck. Consider increasing the value of the `num_workers` argument` to `num_workers=11` in the `DataLoader` to improve performance.\n"
     ]
    },
    {
     "name": "stdout",
     "output_type": "stream",
     "text": [
      "                                                                           \r"
     ]
    },
    {
     "name": "stderr",
     "output_type": "stream",
     "text": [
      "/home/aimas/dtu/dl/DeepLearningProject/.venv/lib/python3.10/site-packages/pytorch_lightning/utilities/data.py:77: Trying to infer the `batch_size` from an ambiguous collection. The batch size we found is 16. To avoid any miscalculations, use `self.log(..., batch_size=batch_size)`.\n",
      "/home/aimas/dtu/dl/DeepLearningProject/.venv/lib/python3.10/site-packages/pytorch_lightning/trainer/connectors/data_connector.py:441: The 'train_dataloader' does not have many workers which may be a bottleneck. Consider increasing the value of the `num_workers` argument` to `num_workers=11` in the `DataLoader` to improve performance.\n"
     ]
    },
    {
     "name": "stdout",
     "output_type": "stream",
     "text": [
      "Epoch 2: 100%|██████████| 6875/6875 [09:19<00:00, 12.29it/s, v_num=1, val_loss=0.120]"
     ]
    },
    {
     "name": "stderr",
     "output_type": "stream",
     "text": [
      "`Trainer.fit` stopped: `max_epochs=3` reached.\n"
     ]
    },
    {
     "name": "stdout",
     "output_type": "stream",
     "text": [
      "Epoch 2: 100%|██████████| 6875/6875 [09:19<00:00, 12.28it/s, v_num=1, val_loss=0.120]\n"
     ]
    }
   ],
   "source": [
    "logger = pl.loggers.TensorBoardLogger(save_dir=qm9tut)\n",
    "callbacks = [\n",
    "    spk.train.ModelCheckpoint(\n",
    "        model_path=os.path.join(qm9tut, \"best_inference_model\"),\n",
    "        save_top_k=1,\n",
    "        monitor=\"val_loss\"\n",
    "    )\n",
    "]\n",
    "\n",
    "trainer = pl.Trainer(\n",
    "    callbacks=callbacks,\n",
    "    logger=logger,\n",
    "    default_root_dir=qm9tut,\n",
    "    max_epochs=EPOCHS, # for testing, we restrict the number of epochs\n",
    ")\n",
    "trainer.fit(task, datamodule=qm9data)"
   ]
  },
  {
   "cell_type": "markdown",
   "metadata": {},
   "source": [
    "## Extracting digest\n",
    "\n",
    "The following code extracts the representation vector digest, following a forward pass of the model. This is done using Pytorch hooks via the `register_forward_hook`-method. \n",
    "First, we make a plot to get an overview of the model layers and their name references.\n"
   ]
  },
  {
   "cell_type": "code",
   "execution_count": 4,
   "metadata": {},
   "outputs": [
    {
     "name": "stdout",
     "output_type": "stream",
     "text": [
      "postprocessors.1.atomref torch.Size([100])\n",
      "postprocessors.1.mean torch.Size([])\n",
      "representation.radial_basis.widths torch.Size([20])\n",
      "representation.radial_basis.offsets torch.Size([20])\n",
      "representation.cutoff_fn.cutoff torch.Size([1])\n",
      "representation.embedding.weight torch.Size([100, 32])\n",
      "representation.interactions.0.in2f.weight torch.Size([32, 32])\n",
      "representation.interactions.0.f2out.0.weight torch.Size([32, 32])\n",
      "representation.interactions.0.f2out.0.bias torch.Size([32])\n",
      "representation.interactions.0.f2out.1.weight torch.Size([32, 32])\n",
      "representation.interactions.0.f2out.1.bias torch.Size([32])\n",
      "representation.interactions.0.filter_network.0.weight torch.Size([32, 20])\n",
      "representation.interactions.0.filter_network.0.bias torch.Size([32])\n",
      "representation.interactions.0.filter_network.1.weight torch.Size([32, 32])\n",
      "representation.interactions.0.filter_network.1.bias torch.Size([32])\n",
      "representation.interactions.1.in2f.weight torch.Size([32, 32])\n",
      "representation.interactions.1.f2out.0.weight torch.Size([32, 32])\n",
      "representation.interactions.1.f2out.0.bias torch.Size([32])\n",
      "representation.interactions.1.f2out.1.weight torch.Size([32, 32])\n",
      "representation.interactions.1.f2out.1.bias torch.Size([32])\n",
      "representation.interactions.1.filter_network.0.weight torch.Size([32, 20])\n",
      "representation.interactions.1.filter_network.0.bias torch.Size([32])\n",
      "representation.interactions.1.filter_network.1.weight torch.Size([32, 32])\n",
      "representation.interactions.1.filter_network.1.bias torch.Size([32])\n",
      "representation.interactions.2.in2f.weight torch.Size([32, 32])\n",
      "representation.interactions.2.f2out.0.weight torch.Size([32, 32])\n",
      "representation.interactions.2.f2out.0.bias torch.Size([32])\n",
      "representation.interactions.2.f2out.1.weight torch.Size([32, 32])\n",
      "representation.interactions.2.f2out.1.bias torch.Size([32])\n",
      "representation.interactions.2.filter_network.0.weight torch.Size([32, 20])\n",
      "representation.interactions.2.filter_network.0.bias torch.Size([32])\n",
      "representation.interactions.2.filter_network.1.weight torch.Size([32, 32])\n",
      "representation.interactions.2.filter_network.1.bias torch.Size([32])\n",
      "output_modules.0.outnet.0.weight torch.Size([16, 32])\n",
      "output_modules.0.outnet.0.bias torch.Size([16])\n",
      "output_modules.0.outnet.1.weight torch.Size([1, 16])\n",
      "output_modules.0.outnet.1.bias torch.Size([1])\n"
     ]
    }
   ],
   "source": [
    "import torch\n",
    "\n",
    "trained_model = torch.load(os.path.join(qm9tut, 'best_inference_model'))\n",
    "\n",
    "for name, param in trained_model.state_dict().items():\n",
    "    print(name, param.shape)\n"
   ]
  },
  {
   "cell_type": "markdown",
   "metadata": {},
   "source": [
    "Next, we define a callback function that will be called by the hook. This function will be called with the following arguments:\n",
    "- `module`: the layer that the hook is attached to\n",
    "- `input`: the input digest to the layer\n",
    "- `output`: the output digest of the layer\n",
    "\n",
    "The function implemented below will take the input digest for the first property inference layer and append the digest Pytorch tensor to a static list `digest_inf_input`. \n",
    "\n",
    "**NOTE: Adding a hook to the output of the last representation layer should provide the same digest as for the input of the inference layer. Somehow they are not the same. By convention, we use a hook for the input of the infernece layer** "
   ]
  },
  {
   "cell_type": "code",
   "execution_count": 5,
   "metadata": {},
   "outputs": [
    {
     "name": "stdout",
     "output_type": "stream",
     "text": [
      "Number of digests captured by forward pass hook: 1\n",
      "Number of digests captured by forward pass hook input: 1\n",
      "tensor([[-7.1627e-02, -2.9642e+00,  1.2790e-01,  6.6342e-02,  2.0104e+00,\n",
      "          8.2587e-04,  8.0413e-01, -6.5471e-01, -1.6550e+00, -2.2838e-01,\n",
      "         -1.1710e+00, -9.6679e-01, -2.0243e+00, -7.4430e-01, -7.2307e-01,\n",
      "         -1.5827e+00, -1.9718e+00, -3.1832e-01, -3.7698e-02,  7.7481e-01,\n",
      "         -2.3014e+00, -3.0325e-01,  2.5881e+00,  1.2734e+00,  9.6661e-01,\n",
      "         -1.0247e+00,  7.1486e-01,  1.6424e+00,  7.3638e-01, -3.6874e-01,\n",
      "         -1.0701e+00,  7.2358e-01],\n",
      "        [-1.1075e+00,  3.6289e-01,  1.6475e+00, -1.2829e-02, -9.0501e-01,\n",
      "         -2.8094e-01,  3.4885e-01,  1.7456e+00, -1.6498e+00, -4.7583e-01,\n",
      "          1.3172e+00,  5.0582e-01,  3.5705e-01,  2.3235e-01, -1.7651e-01,\n",
      "         -9.9803e-01,  8.6846e-01, -1.7836e+00,  3.2380e-01,  1.2094e+00,\n",
      "          3.4156e-01,  9.6595e-01, -8.1255e-01, -5.5443e-01,  1.4481e+00,\n",
      "          6.3974e-01,  3.9865e-01,  1.4886e-01,  7.8006e-02, -6.5559e-01,\n",
      "         -4.7991e-01,  4.0802e-01],\n",
      "        [-1.1075e+00,  3.6289e-01,  1.6475e+00, -1.2829e-02, -9.0501e-01,\n",
      "         -2.8094e-01,  3.4885e-01,  1.7456e+00, -1.6498e+00, -4.7583e-01,\n",
      "          1.3172e+00,  5.0583e-01,  3.5705e-01,  2.3235e-01, -1.7651e-01,\n",
      "         -9.9803e-01,  8.6845e-01, -1.7836e+00,  3.2380e-01,  1.2094e+00,\n",
      "          3.4156e-01,  9.6595e-01, -8.1255e-01, -5.5443e-01,  1.4481e+00,\n",
      "          6.3974e-01,  3.9865e-01,  1.4886e-01,  7.8007e-02, -6.5559e-01,\n",
      "         -4.7991e-01,  4.0802e-01],\n",
      "        [-1.1075e+00,  3.6288e-01,  1.6475e+00, -1.2835e-02, -9.0501e-01,\n",
      "         -2.8095e-01,  3.4883e-01,  1.7456e+00, -1.6497e+00, -4.7583e-01,\n",
      "          1.3173e+00,  5.0584e-01,  3.5705e-01,  2.3235e-01, -1.7652e-01,\n",
      "         -9.9804e-01,  8.6845e-01, -1.7836e+00,  3.2380e-01,  1.2094e+00,\n",
      "          3.4155e-01,  9.6594e-01, -8.1255e-01, -5.5442e-01,  1.4481e+00,\n",
      "          6.3974e-01,  3.9866e-01,  1.4886e-01,  7.8015e-02, -6.5560e-01,\n",
      "         -4.7992e-01,  4.0802e-01],\n",
      "        [-1.1075e+00,  3.6288e-01,  1.6475e+00, -1.2835e-02, -9.0501e-01,\n",
      "         -2.8095e-01,  3.4884e-01,  1.7456e+00, -1.6498e+00, -4.7583e-01,\n",
      "          1.3173e+00,  5.0584e-01,  3.5705e-01,  2.3235e-01, -1.7652e-01,\n",
      "         -9.9804e-01,  8.6845e-01, -1.7836e+00,  3.2380e-01,  1.2094e+00,\n",
      "          3.4155e-01,  9.6594e-01, -8.1255e-01, -5.5443e-01,  1.4481e+00,\n",
      "          6.3974e-01,  3.9866e-01,  1.4886e-01,  7.8014e-02, -6.5560e-01,\n",
      "         -4.7992e-01,  4.0802e-01]], device='cuda:0', grad_fn=<AddBackward0>)\n",
      "torch.Size([5, 32])\n",
      "tensor([[ 0.0105, -0.9848,  0.6436, -1.1284,  0.6879, -0.0699,  0.3629, -0.1696,\n",
      "          0.3672, -0.3580, -0.1539,  0.1883,  0.0591,  0.2829,  0.1565, -1.0503,\n",
      "          0.3351, -0.1756, -0.3679,  0.7642, -0.3012, -0.2465,  0.6822, -0.1188,\n",
      "          0.6539, -0.8431,  0.0408,  0.0350,  0.3430, -0.5349, -0.2148,  0.3967],\n",
      "        [ 0.1424, -0.0799,  0.3728, -0.0319, -0.1135,  0.0991,  0.1699,  0.1095,\n",
      "          0.1131,  0.1302,  0.1015, -0.2558, -0.0673,  0.1320,  0.1280,  0.1366,\n",
      "          0.2450,  0.2569,  0.0928, -0.0483,  0.0803,  0.0152, -0.1312, -0.1306,\n",
      "          0.2720, -0.1490, -0.0731,  0.1497,  0.0835,  0.1489, -0.0987,  0.0200],\n",
      "        [ 0.1424, -0.0799,  0.3728, -0.0319, -0.1135,  0.0991,  0.1699,  0.1095,\n",
      "          0.1131,  0.1302,  0.1015, -0.2558, -0.0673,  0.1320,  0.1280,  0.1366,\n",
      "          0.2450,  0.2569,  0.0928, -0.0483,  0.0803,  0.0152, -0.1312, -0.1306,\n",
      "          0.2720, -0.1490, -0.0731,  0.1497,  0.0835,  0.1489, -0.0987,  0.0200],\n",
      "        [ 0.1424, -0.0799,  0.3728, -0.0319, -0.1135,  0.0991,  0.1699,  0.1095,\n",
      "          0.1131,  0.1302,  0.1015, -0.2557, -0.0673,  0.1320,  0.1280,  0.1366,\n",
      "          0.2450,  0.2569,  0.0928, -0.0483,  0.0803,  0.0152, -0.1312, -0.1306,\n",
      "          0.2720, -0.1490, -0.0731,  0.1497,  0.0835,  0.1489, -0.0987,  0.0200],\n",
      "        [ 0.1424, -0.0799,  0.3728, -0.0319, -0.1135,  0.0991,  0.1699,  0.1095,\n",
      "          0.1131,  0.1302,  0.1015, -0.2558, -0.0673,  0.1320,  0.1280,  0.1366,\n",
      "          0.2450,  0.2569,  0.0928, -0.0483,  0.0803,  0.0152, -0.1312, -0.1306,\n",
      "          0.2720, -0.1490, -0.0731,  0.1497,  0.0835,  0.1489, -0.0987,  0.0200]],\n",
      "       device='cuda:0', grad_fn=<AddmmBackward0>)\n"
     ]
    }
   ],
   "source": [
    "import numpy as np\n",
    "from ase import Atoms\n",
    "\n",
    "digests_rep_output = []\n",
    "digest_inf_input = []\n",
    "converter = spk.interfaces.AtomsConverter(neighbor_list=trn.ASENeighborList(cutoff=float(CUTOFF)), \n",
    "                                          dtype=torch.float32,\n",
    "                                          device='cuda')\n",
    "\n",
    "def forward_hook_out_callback(module, input, output):\n",
    "    digests_rep_output.append(output)\n",
    "\n",
    "def forward_hook_in_callback(module, input, output):\n",
    "    digest_inf_input.append(input)\n",
    "\n",
    "# model_layer = trained_model.representation.interactions[2].f2out[1]\n",
    "model_layer_inf_input = trained_model.output_modules[0].outnet[0]\n",
    "# hook_handle = model_layer.register_forward_hook(forward_hook_out_callback)\n",
    "hook_handle_inf_input = model_layer_inf_input.register_forward_hook(forward_hook_in_callback)\n",
    "\n",
    "trained_model.eval()\n",
    "\n",
    "numbers = np.array([6, 1, 1, 1, 1])\n",
    "positions = np.array([[-0.0126981359, 1.0858041578, 0.0080009958],\n",
    "                      [0.002150416, -0.0060313176, 0.0019761204],\n",
    "                      [1.0117308433, 1.4637511618, 0.0002765748],\n",
    "                      [-0.540815069, 1.4475266138, -0.8766437152],\n",
    "                      [-0.5238136345, 1.4379326443, 0.9063972942]])\n",
    "atoms = Atoms(numbers=numbers, positions=positions)\n",
    "inputs = converter(atoms)\n",
    "\n",
    "pred = trained_model(inputs)\n",
    "\n",
    "print(f\"Number of digests captured by forward pass hook: {len(digests_rep_output)}\")\n",
    "print(f\"Number of digests captured by forward pass hook input: {len(digest_inf_input)}\")\n",
    "\n",
    "for d in digest_inf_input:\n",
    "    print(d[0])\n",
    "    print(d[0].shape)\n",
    "\n",
    "for d in digests_rep_output:\n",
    "    print(d)\n",
    "    break\n",
    "\n",
    "# hook_handle.remove()\n",
    "hook_handle_inf_input.remove()"
   ]
  },
  {
   "cell_type": "code",
   "execution_count": 12,
   "metadata": {},
   "outputs": [
    {
     "data": {
      "image/png": "[encoded data removed]",
      "text/plain": [
       "<Figure size 640x480 with 1 Axes>"
      ]
     },
     "metadata": {},
     "output_type": "display_data"
    }
   ],
   "source": [
    "import matplotlib.pyplot as plt\n",
    "\n",
    "x = digests_rep_output[0].cpu().detach().numpy()\n",
    "y = digest_inf_input[0][0].cpu().detach().numpy()\n",
    "\n",
    "plt.scatter(\n",
    "    x[0],\n",
    "    y[0]\n",
    ")\n",
    "plt.show()"
   ]
  }
 ],
 "metadata": {
  "kernelspec": {
   "display_name": ".venv",
   "language": "python",
   "name": "python3"
  },
  "language_info": {
   "codemirror_mode": {
    "name": "ipython",
    "version": 3
   },
   "file_extension": ".py",
   "mimetype": "text/x-python",
   "name": "python",
   "nbconvert_exporter": "python",
   "pygments_lexer": "ipython3",
   "version": "3.10.12"
  }
 },
 "nbformat": 4,
 "nbformat_minor": 2
}
